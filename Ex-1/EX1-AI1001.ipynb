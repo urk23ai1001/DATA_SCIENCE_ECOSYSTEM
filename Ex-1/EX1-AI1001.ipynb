{
 "cells": [
  {
   "cell_type": "code",
   "execution_count": 66,
   "id": "537e92df-b28c-4b66-984c-87d1c6a3dbf7",
   "metadata": {},
   "outputs": [
    {
     "name": "stdin",
     "output_type": "stream",
     "text": [
      "Enter NUmber of Books to enter : 5\n",
      "Enter Book ID : 1001\n",
      "Enter Book Name The Bible\n",
      "Enter Book ID : 1021\n",
      "Enter Book Name Quotations from the Works of Mao Tse-Tung\n",
      "Enter Book ID : 1052\n",
      "Enter Book Name Harry Potter Series\n",
      "Enter Book ID : 1005\n",
      "Enter Book Name The Lord of the Rings\n",
      "Enter Book ID : 1631\n",
      "Enter Book Name The Da Vinci Code \n"
     ]
    }
   ],
   "source": [
    "books={}\n",
    "\n",
    "a = int(input(\"Enter NUmber of Books to enter :\"))\n",
    "\n",
    "for i in range(a):\n",
    "    key=int(input(\"Enter Book ID :\"))\n",
    "    value=input(\"Enter Book Name\")\n",
    "    books[key]=value"
   ]
  },
  {
   "cell_type": "code",
   "execution_count": 67,
   "id": "6daed5d2-43b6-4250-92c6-88030f940654",
   "metadata": {},
   "outputs": [
    {
     "data": {
      "text/plain": [
       "{1001: 'The Bible',\n",
       " 1021: 'Quotations from the Works of Mao Tse-Tung',\n",
       " 1052: 'Harry Potter Series',\n",
       " 1005: 'The Lord of the Rings',\n",
       " 1631: 'The Da Vinci Code '}"
      ]
     },
     "execution_count": 67,
     "metadata": {},
     "output_type": "execute_result"
    }
   ],
   "source": [
    "books\n"
   ]
  },
  {
   "cell_type": "code",
   "execution_count": 68,
   "id": "ed9124db-75a4-4718-8936-b0e431ef9c96",
   "metadata": {},
   "outputs": [
    {
     "name": "stdin",
     "output_type": "stream",
     "text": [
      "Enter Book ID to Search : 1001\n"
     ]
    },
    {
     "name": "stdout",
     "output_type": "stream",
     "text": [
      "The Bible\n"
     ]
    }
   ],
   "source": [
    "book_id=int(input(\"Enter Book ID to Search :\"))\n",
    "if (books[book_id]):\n",
    "    print(books[book_id])\n",
    "else:\n",
    "    print(\"Book ID not found\")"
   ]
  },
  {
   "cell_type": "code",
   "execution_count": 97,
   "id": "de50030f-858c-4cda-b69b-aafd9d34c47f",
   "metadata": {},
   "outputs": [
    {
     "name": "stdin",
     "output_type": "stream",
     "text": [
      "Enter number of value  3\n",
      " 23\n",
      " 231\n",
      " 124\n"
     ]
    }
   ],
   "source": [
    "my_tuple=()\n",
    "\n",
    "num=int(input(\"Enter number of value \"))\n",
    "for i in range(num):\n",
    "    a=int(input())\n",
    "    my_tuple += (a,)"
   ]
  },
  {
   "cell_type": "code",
   "execution_count": 100,
   "id": "7a94db7d-40ad-4593-b3b1-ff296b7718e4",
   "metadata": {},
   "outputs": [
    {
     "data": {
      "text/plain": [
       "378"
      ]
     },
     "execution_count": 100,
     "metadata": {},
     "output_type": "execute_result"
    }
   ],
   "source": [
    "my_tuple\n",
    "result=sum(my_tuple)\n",
    "result"
   ]
  },
  {
   "cell_type": "code",
   "execution_count": 91,
   "id": "3a56e8b3-3e0c-481b-b187-1c78b86892e7",
   "metadata": {},
   "outputs": [
    {
     "name": "stdin",
     "output_type": "stream",
     "text": [
      "Enter Number of elements : 3\n",
      " ty\n",
      " wer\n",
      " werg\n"
     ]
    },
    {
     "data": {
      "text/plain": [
       "['ty', 'wer', 'werg']"
      ]
     },
     "execution_count": 91,
     "metadata": {},
     "output_type": "execute_result"
    }
   ],
   "source": [
    "'''list=[]\n",
    "\n",
    "a = int(input(\"Enter Number of elements :\"))\n",
    "\n",
    "for i in range(0,a):\n",
    "    elements=input()\n",
    "    list.append(elements)\n",
    "list'''"
   ]
  },
  {
   "cell_type": "code",
   "execution_count": 92,
   "id": "1c7003eb-db38-4244-bf95-b2bec562f710",
   "metadata": {},
   "outputs": [
    {
     "ename": "NameError",
     "evalue": "name 'string' is not defined",
     "output_type": "error",
     "traceback": [
      "\u001b[1;31m---------------------------------------------------------------------------\u001b[0m",
      "\u001b[1;31mNameError\u001b[0m                                 Traceback (most recent call last)",
      "Cell \u001b[1;32mIn[92], line 1\u001b[0m\n\u001b[1;32m----> 1\u001b[0m \u001b[38;5;28;01mif\u001b[39;00m \u001b[38;5;28mlen\u001b[39m(string) \u001b[38;5;241m>\u001b[39m\u001b[38;5;241m=\u001b[39m \u001b[38;5;241m2\u001b[39m \u001b[38;5;129;01mand\u001b[39;00m string[\u001b[38;5;241m0\u001b[39m] \u001b[38;5;241m==\u001b[39m string[\u001b[38;5;241m-\u001b[39m\u001b[38;5;241m1\u001b[39m]:\n\u001b[0;32m      2\u001b[0m     \u001b[38;5;28mprint\u001b[39m(\u001b[38;5;28mlen\u001b[39m(string))\n",
      "\u001b[1;31mNameError\u001b[0m: name 'string' is not defined"
     ]
    }
   ],
   "source": [
    "'''if len(string) >= 2 and string[0] == string[-1]:\n",
    "    print(len(string))'''"
   ]
  },
  {
   "cell_type": "code",
   "execution_count": null,
   "id": "d9ec1c95-ba17-4d95-a1a7-2460d651c2a4",
   "metadata": {},
   "outputs": [],
   "source": [
    "my_set = set()\n",
    "user_in = int(input(\"Enter a no of value : \"))\n",
    "\n",
    "for i in range(user_in):\n",
    "    value=int(input(\"Enter :\"))\n",
    "    my_list=list(my_set)\n",
    "    my_list.append(value)\n",
    "    my_set=set(my_list)\n",
    "\n",
    "print(\"Your List is\")\n",
    "my_set\n",
    "\n",
    "print(\"The Max value from the set is \" ,max(my_set))"
   ]
  }
 ],
 "metadata": {
  "kernelspec": {
   "display_name": "Python 3 (ipykernel)",
   "language": "python",
   "name": "python3"
  },
  "language_info": {
   "codemirror_mode": {
    "name": "ipython",
    "version": 3
   },
   "file_extension": ".py",
   "mimetype": "text/x-python",
   "name": "python",
   "nbconvert_exporter": "python",
   "pygments_lexer": "ipython3",
   "version": "3.11.7"
  }
 },
 "nbformat": 4,
 "nbformat_minor": 5
}
