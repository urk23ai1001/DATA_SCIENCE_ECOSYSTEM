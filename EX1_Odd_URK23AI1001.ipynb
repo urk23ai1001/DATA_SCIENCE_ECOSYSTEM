{
  "cells": [
    {
      "cell_type": "markdown",
      "metadata": {
        "id": "view-in-github",
        "colab_type": "text"
      },
      "source": [
        "<a href=\"https://colab.research.google.com/github/urk23ai1001/DATA_SCIENCE_ECOSYSTEM/blob/main/EX1_Odd_URK23AI1001.ipynb\" target=\"_parent\"><img src=\"https://colab.research.google.com/assets/colab-badge.svg\" alt=\"Open In Colab\"/></a>"
      ]
    },
    {
      "cell_type": "markdown",
      "source": [
        "**1. Create an empty dictionary and fill with some book_id and book_name as pair by user\n",
        "input. Then take one book_id as input from the user and traverse through dictionary to\n",
        "find the corresponding book_name and display the same.**"
      ],
      "metadata": {
        "id": "3AQiLYusBDXN"
      },
      "id": "3AQiLYusBDXN"
    },
    {
      "cell_type": "code",
      "execution_count": null,
      "id": "537e92df-b28c-4b66-984c-87d1c6a3dbf7",
      "metadata": {
        "id": "537e92df-b28c-4b66-984c-87d1c6a3dbf7",
        "outputId": "21b19181-0359-4236-cb02-8b6b53c195ca"
      },
      "outputs": [
        {
          "name": "stdin",
          "output_type": "stream",
          "text": [
            "Enter NUmber of Books to enter : 5\n",
            "Enter Book ID : 1001\n",
            "Enter Book Name The Bible\n",
            "Enter Book ID : 1021\n",
            "Enter Book Name Quotations from the Works of Mao Tse-Tung\n",
            "Enter Book ID : 1052\n",
            "Enter Book Name Harry Potter Series\n",
            "Enter Book ID : 1005\n",
            "Enter Book Name The Lord of the Rings\n",
            "Enter Book ID : 1631\n",
            "Enter Book Name The Da Vinci Code \n"
          ]
        }
      ],
      "source": [
        "books={}\n",
        "\n",
        "a = int(input(\"Enter NUmber of Books to enter :\"))\n",
        "\n",
        "for i in range(a):\n",
        "    key=int(input(\"Enter Book ID :\"))\n",
        "    value=input(\"Enter Book Name\")\n",
        "    books[key]=value"
      ]
    },
    {
      "cell_type": "code",
      "execution_count": null,
      "id": "6daed5d2-43b6-4250-92c6-88030f940654",
      "metadata": {
        "id": "6daed5d2-43b6-4250-92c6-88030f940654",
        "outputId": "195d079c-dbc1-4cfe-ff20-9e39b38231bb"
      },
      "outputs": [
        {
          "data": {
            "text/plain": [
              "{1001: 'The Bible',\n",
              " 1021: 'Quotations from the Works of Mao Tse-Tung',\n",
              " 1052: 'Harry Potter Series',\n",
              " 1005: 'The Lord of the Rings',\n",
              " 1631: 'The Da Vinci Code '}"
            ]
          },
          "execution_count": 67,
          "metadata": {},
          "output_type": "execute_result"
        }
      ],
      "source": [
        "books\n"
      ]
    },
    {
      "cell_type": "code",
      "execution_count": null,
      "id": "ed9124db-75a4-4718-8936-b0e431ef9c96",
      "metadata": {
        "id": "ed9124db-75a4-4718-8936-b0e431ef9c96",
        "outputId": "09420ae3-b977-4f2c-e0d3-33f42f7bf96b"
      },
      "outputs": [
        {
          "name": "stdin",
          "output_type": "stream",
          "text": [
            "Enter Book ID to Search : 1001\n"
          ]
        },
        {
          "name": "stdout",
          "output_type": "stream",
          "text": [
            "The Bible\n"
          ]
        }
      ],
      "source": [
        "book_id=int(input(\"Enter Book ID to Search :\"))\n",
        "if (books[book_id]):\n",
        "    print(books[book_id])\n",
        "else:\n",
        "    print(\"Book ID not found\")"
      ]
    },
    {
      "cell_type": "markdown",
      "source": [
        "**(2) Create an empty list and fill with list of strings by user input. Find the number of strings\n",
        "where the string length is 2 or more and the first and last character are same.**"
      ],
      "metadata": {
        "id": "3gxyhZ2jTtY1"
      },
      "id": "3gxyhZ2jTtY1"
    },
    {
      "cell_type": "code",
      "execution_count": null,
      "id": "3a56e8b3-3e0c-481b-b187-1c78b86892e7",
      "metadata": {
        "id": "3a56e8b3-3e0c-481b-b187-1c78b86892e7",
        "colab": {
          "base_uri": "https://localhost:8080/"
        },
        "outputId": "d211b5e7-31e5-4865-fa62-aaac0e89d428"
      },
      "outputs": [
        {
          "name": "stdout",
          "output_type": "stream",
          "text": [
            "Enter Number of elements :5\n",
            "hello\n",
            "abba\n",
            "racecar\n",
            "EDE\n",
            "home\n"
          ]
        },
        {
          "output_type": "execute_result",
          "data": {
            "text/plain": [
              "5"
            ]
          },
          "metadata": {},
          "execution_count": 6
        }
      ],
      "source": [
        "list=[]\n",
        "\n",
        "a = int(input(\"Enter Number of elements :\"))\n",
        "\n",
        "for i in range(0,a):\n",
        "    elements=input()\n",
        "    list.append(elements)\n",
        "list\n",
        "len(list)\n"
      ]
    },
    {
      "cell_type": "code",
      "source": [
        "count = 0\n",
        "for element in list:\n",
        "    if element[0] == element[-1]:\n",
        "        count += 1\n",
        "\n",
        "print(\"Result:\", count)"
      ],
      "metadata": {
        "id": "V0g60aI8T8Hv",
        "colab": {
          "base_uri": "https://localhost:8080/"
        },
        "outputId": "0aca2ff6-0c9a-4c95-defc-fedaee95b7c3"
      },
      "id": "V0g60aI8T8Hv",
      "execution_count": null,
      "outputs": [
        {
          "output_type": "stream",
          "name": "stdout",
          "text": [
            "Result: 3\n"
          ]
        }
      ]
    },
    {
      "cell_type": "markdown",
      "source": [
        "**(3) Create an empty set and fill with some values by user input. Find maximum value in a\n",
        "set.**"
      ],
      "metadata": {
        "id": "F_U2M-EtBlt5"
      },
      "id": "F_U2M-EtBlt5"
    },
    {
      "cell_type": "code",
      "execution_count": null,
      "id": "d9ec1c95-ba17-4d95-a1a7-2460d651c2a4",
      "metadata": {
        "colab": {
          "base_uri": "https://localhost:8080/"
        },
        "id": "d9ec1c95-ba17-4d95-a1a7-2460d651c2a4",
        "outputId": "e291ef33-e023-4d50-b049-1442701b9519"
      },
      "outputs": [
        {
          "output_type": "stream",
          "name": "stdout",
          "text": [
            "Enter a no of value : 4\n",
            "Enter :2\n",
            "Enter :34\n",
            "Enter :2\n",
            "Enter :4\n",
            "Your List is\n",
            "The Max value from the set is  34\n"
          ]
        }
      ],
      "source": [
        "my_set = set()\n",
        "user_in = int(input(\"Enter a no of value : \"))\n",
        "\n",
        "for i in range(user_in):\n",
        "    value=int(input(\"Enter :\"))\n",
        "    my_list=list(my_set)\n",
        "    my_list.append(value)\n",
        "    my_set=set(my_list)\n",
        "\n",
        "print(\"Your List is\")\n",
        "my_set\n",
        "\n",
        "print(\"The Max value from the set is \" ,max(my_set))"
      ]
    },
    {
      "cell_type": "markdown",
      "source": [
        "**(4) Create an empty tuple and fill with some values by user input. Find the sum of tuple elements.**"
      ],
      "metadata": {
        "id": "xH4DiwlCAhaT"
      },
      "id": "xH4DiwlCAhaT"
    },
    {
      "cell_type": "code",
      "execution_count": null,
      "id": "de50030f-858c-4cda-b69b-aafd9d34c47f",
      "metadata": {
        "id": "de50030f-858c-4cda-b69b-aafd9d34c47f",
        "outputId": "1f0d6b7f-055d-4893-91b1-e49c3215ace4"
      },
      "outputs": [
        {
          "name": "stdin",
          "output_type": "stream",
          "text": [
            "Enter number of value  3\n",
            " 23\n",
            " 231\n",
            " 124\n"
          ]
        }
      ],
      "source": [
        "my_tuple=()\n",
        "\n",
        "num=int(input(\"Enter number of value \"))\n",
        "for i in range(num):\n",
        "    a=int(input())\n",
        "    my_tuple += (a,)"
      ]
    },
    {
      "cell_type": "code",
      "execution_count": null,
      "id": "7a94db7d-40ad-4593-b3b1-ff296b7718e4",
      "metadata": {
        "id": "7a94db7d-40ad-4593-b3b1-ff296b7718e4",
        "outputId": "262431a4-d4ad-44c3-bded-dbbed0d4c5c2"
      },
      "outputs": [
        {
          "data": {
            "text/plain": [
              "378"
            ]
          },
          "execution_count": 100,
          "metadata": {},
          "output_type": "execute_result"
        }
      ],
      "source": [
        "my_tuple\n",
        "result=sum(my_tuple)\n",
        "result"
      ]
    },
    {
      "cell_type": "markdown",
      "source": [
        "**(5) Create a 2D array and perform matrix addition using numpy.**"
      ],
      "metadata": {
        "id": "uRZc2aWTUC7n"
      },
      "id": "uRZc2aWTUC7n"
    },
    {
      "cell_type": "code",
      "source": [
        "import numpy as np"
      ],
      "metadata": {
        "id": "UcU9jBGNUIbG"
      },
      "id": "UcU9jBGNUIbG",
      "execution_count": null,
      "outputs": []
    },
    {
      "cell_type": "code",
      "source": [
        "a=np.array([[1,2],[3,4]])\n",
        "b=np.array([[5,6],[7,8]])\n",
        "\n",
        "c=np.add(a,b)\n",
        "c"
      ],
      "metadata": {
        "colab": {
          "base_uri": "https://localhost:8080/"
        },
        "id": "Rj0SGGp8USyk",
        "outputId": "b7b4629c-4411-4c3b-d167-a68676684ed2"
      },
      "id": "Rj0SGGp8USyk",
      "execution_count": null,
      "outputs": [
        {
          "output_type": "execute_result",
          "data": {
            "text/plain": [
              "array([[ 6,  8],\n",
              "       [10, 12]])"
            ]
          },
          "metadata": {},
          "execution_count": 17
        }
      ]
    },
    {
      "cell_type": "markdown",
      "source": [
        "**(6) Read an .csv file and display the basic details.**"
      ],
      "metadata": {
        "id": "-f-eoSMZUv5G"
      },
      "id": "-f-eoSMZUv5G"
    },
    {
      "cell_type": "code",
      "source": [
        "import csv"
      ],
      "metadata": {
        "id": "XxY_9tFK-cHP"
      },
      "id": "XxY_9tFK-cHP",
      "execution_count": null,
      "outputs": []
    },
    {
      "cell_type": "code",
      "source": [
        "with open('/Iris.csv','r') as f1:\n",
        "  reader=csv.reader(f1)\n",
        "  data=list(reader)\n",
        "  for row in data[:3]:\n",
        "        print(row)"
      ],
      "metadata": {
        "id": "8pKdyijRUSq0",
        "colab": {
          "base_uri": "https://localhost:8080/"
        },
        "outputId": "aa3df864-304d-46cb-ebef-8a94b23b745d"
      },
      "id": "8pKdyijRUSq0",
      "execution_count": null,
      "outputs": [
        {
          "output_type": "stream",
          "name": "stdout",
          "text": [
            "['Id', 'Location', 'SepalLengthCm', 'SepalWidthCm', 'PetalLengthCm', 'PetalWidthCm', 'Species']\n",
            "['1', 'Torgersen', '5.1', '3.5', '1.4', '0.2', 'Iris-setosa']\n",
            "['2', 'Torgersen', '4.9', '3', '1.4', '0.2', 'Iris-setosa']\n"
          ]
        }
      ]
    },
    {
      "cell_type": "markdown",
      "source": [
        "**(7) Create a csv file and write the Banking details in it.**"
      ],
      "metadata": {
        "id": "VD0bQVhyA6FN"
      },
      "id": "VD0bQVhyA6FN"
    },
    {
      "cell_type": "code",
      "source": [
        "import csv\n",
        "with open('newfile.csv','w') as f2:\n",
        "  writer=csv.writer(f2)\n",
        "  writer.writerow(['S.NO','Name','Acc.No'])\n",
        "  writer.writerow([1,'Ronnie','URK23AI1001'])\n",
        "  writer.writerow([2,'Deva','URK23AI1002'])\n",
        "  writer.writerow([3,'Shubham','URK23AI1003'])\n"
      ],
      "metadata": {
        "id": "nKPzg5AoBB30"
      },
      "id": "nKPzg5AoBB30",
      "execution_count": 1,
      "outputs": []
    }
  ],
  "metadata": {
    "kernelspec": {
      "display_name": "Python 3 (ipykernel)",
      "language": "python",
      "name": "python3"
    },
    "language_info": {
      "codemirror_mode": {
        "name": "ipython",
        "version": 3
      },
      "file_extension": ".py",
      "mimetype": "text/x-python",
      "name": "python",
      "nbconvert_exporter": "python",
      "pygments_lexer": "ipython3",
      "version": "3.11.7"
    },
    "colab": {
      "provenance": [],
      "include_colab_link": true
    }
  },
  "nbformat": 4,
  "nbformat_minor": 5
}